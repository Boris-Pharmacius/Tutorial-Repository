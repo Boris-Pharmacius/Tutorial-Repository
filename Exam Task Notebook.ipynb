{
    "cells": [
        {
            "metadata": {
                "collapsed": true
            },
            "cell_type": "markdown",
            "source": "# My Jupyter Notebook on IBM Watson Studio"
        },
        {
            "metadata": {},
            "cell_type": "markdown",
            "source": "## __Boris Odnoburtsev__"
        },
        {
            "metadata": {},
            "cell_type": "markdown",
            "source": "Interpreteur, freelancer, micro-blogger"
        },
        {
            "metadata": {},
            "cell_type": "markdown",
            "source": "_I am interested in data science because it combines knowledge in programming and math/statistics with subject matter expertise. My target is to become a data scientist in healthcare_"
        },
        {
            "metadata": {},
            "cell_type": "markdown",
            "source": "### Below there is a hyperlink to my FB profile"
        },
        {
            "metadata": {},
            "cell_type": "markdown",
            "source": "[Hi! I'm Boris](http://www.facebook.com/boris.odnoburtsev)"
        },
        {
            "metadata": {},
            "cell_type": "markdown",
            "source": "<a href=\"https://www.facebook.com/boris.odnoburtsev\">The same HTML-link</a>"
        },
        {
            "metadata": {},
            "cell_type": "markdown",
            "source": "### Simple code that calculates and prints a result for dividing a parameter 'b' by a parameter 'a'"
        },
        {
            "metadata": {},
            "cell_type": "code",
            "source": "a=3\nb=13\na+b\nprint(b/a)",
            "execution_count": 38,
            "outputs": [
                {
                    "output_type": "stream",
                    "text": "4.333333333333333\n",
                    "name": "stdout"
                }
            ]
        },
        {
            "metadata": {},
            "cell_type": "markdown",
            "source": "***"
        },
        {
            "metadata": {},
            "cell_type": "markdown",
            "source": "- _Thanks_\n- *for*\n- __your__\n- **course**"
        },
        {
            "metadata": {},
            "cell_type": "markdown",
            "source": "1. It\n1. *was*\n1. **very**\n1. *__interesting__*"
        },
        {
            "metadata": {},
            "cell_type": "markdown",
            "source": "And|a|~~small~~|table\n---|---|---|---\n1|2|3|4"
        },
        {
            "metadata": {},
            "cell_type": "markdown",
            "source": ">Try to be better than you are"
        },
        {
            "metadata": {},
            "cell_type": "code",
            "source": "",
            "execution_count": null,
            "outputs": []
        }
    ],
    "metadata": {
        "kernelspec": {
            "name": "python3",
            "display_name": "Python 3.9",
            "language": "python"
        },
        "language_info": {
            "name": "python",
            "version": "3.9.12",
            "mimetype": "text/x-python",
            "codemirror_mode": {
                "name": "ipython",
                "version": 3
            },
            "pygments_lexer": "ipython3",
            "nbconvert_exporter": "python",
            "file_extension": ".py"
        }
    },
    "nbformat": 4,
    "nbformat_minor": 1
}